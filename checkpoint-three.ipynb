{
    "cells": [
        {
            "attachments": {},
            "cell_type": "markdown",
            "metadata": {
                "azdata_cell_guid": "26037d32-2047-4157-81ef-595916bd66a0"
            },
            "source": [
                "# Checkpoint Three: Cleaning Data\n",
                "\n",
                "Now you are ready to clean your data. Before starting coding, provide the link to your dataset below.\n",
                "\n",
                "My dataset:\n",
                "\n",
                "Import the necessary libraries and create your dataframe(s)."
            ]
        },
        {
            "cell_type": "code",
            "execution_count": 14,
            "metadata": {
                "azdata_cell_guid": "e8adef8e-d0f2-4640-a179-5997f11e82ca"
            },
            "outputs": [],
            "source": [
                "import pandas as pd\n",
                "import matplotlib as plt\n",
                "import seaborn as sns\n",
                "import numpy as np\n",
                "\n"
            ]
        },
        {
            "cell_type": "markdown",
            "metadata": {
                "azdata_cell_guid": "e172475a-c4ee-414a-8367-9965355dbba6"
            },
            "source": [
                "## Missing Data\n",
                "\n",
                "Test your dataset for missing data and handle it as needed. Make notes in the form of code comments as to your thought process."
            ]
        },
        {
            "cell_type": "code",
            "execution_count": 24,
            "metadata": {
                "azdata_cell_guid": "e1dc66ef-e471-4c27-92e7-ee878c106eba"
            },
            "outputs": [
                {
                    "name": "stdout",
                    "output_type": "stream",
                    "text": [
                        "<bound method NDFrame.head of                          movie_title release_date      genre MPAA_rating  \\\n",
                        "0    Snow White and the Seven Dwarfs   12/21/1937    Musical           G   \n",
                        "1                          Pinocchio     2/9/1940  Adventure           G   \n",
                        "2                           Fantasia   11/13/1940    Musical           G   \n",
                        "3                  Song of the South   11/12/1946  Adventure           G   \n",
                        "4                         Cinderella    2/15/1950      Drama           G   \n",
                        "..                               ...          ...        ...         ...   \n",
                        "656                   Wreck-It Ralph    11/2/2012        NaN         NaN   \n",
                        "657                         \\nFrozen   11/27/2013        NaN         NaN   \n",
                        "658                       Big Hero 6    11/7/2014        NaN         NaN   \n",
                        "659                       \\nZootopia     3/4/2016        NaN         NaN   \n",
                        "660                          \\nMoana   11/23/2016        NaN         NaN   \n",
                        "\n",
                        "       total_gross inflation_adjusted_gross  Year  Studio Entertainment[NI 1]  \\\n",
                        "0    $184,925,485           $5,228,953,251    NaN                         NaN   \n",
                        "1     $84,300,000           $2,188,229,052    NaN                         NaN   \n",
                        "2     $83,320,000           $2,187,090,808    NaN                         NaN   \n",
                        "3     $65,000,000           $1,078,510,579    NaN                         NaN   \n",
                        "4     $85,000,000             $920,608,730    NaN                         NaN   \n",
                        "..             ...                      ...   ...                         ...   \n",
                        "656            NaN                      NaN   NaN                         NaN   \n",
                        "657            NaN                      NaN   NaN                         NaN   \n",
                        "658            NaN                      NaN   NaN                         NaN   \n",
                        "659            NaN                      NaN   NaN                         NaN   \n",
                        "660            NaN                      NaN   NaN                         NaN   \n",
                        "\n",
                        "     Disney Consumer Products[NI 2]  Disney Interactive[NI 3][Rev 1]  \\\n",
                        "0                               NaN                              NaN   \n",
                        "1                               NaN                              NaN   \n",
                        "2                               NaN                              NaN   \n",
                        "3                               NaN                              NaN   \n",
                        "4                               NaN                              NaN   \n",
                        "..                              ...                              ...   \n",
                        "656                             NaN                              NaN   \n",
                        "657                             NaN                              NaN   \n",
                        "658                             NaN                              NaN   \n",
                        "659                             NaN                              NaN   \n",
                        "660                             NaN                              NaN   \n",
                        "\n",
                        "     Walt Disney Parks and Resorts Disney Media Networks  Total         hero  \\\n",
                        "0                              NaN                   NaN    NaN          NaN   \n",
                        "1                              NaN                   NaN    NaN          NaN   \n",
                        "2                              NaN                   NaN    NaN          NaN   \n",
                        "3                              NaN                   NaN    NaN          NaN   \n",
                        "4                              NaN                   NaN    NaN          NaN   \n",
                        "..                             ...                   ...    ...          ...   \n",
                        "656                            NaN                   NaN    NaN        Ralph   \n",
                        "657                            NaN                   NaN    NaN         Elsa   \n",
                        "658                            NaN                   NaN    NaN  Hiro Hamada   \n",
                        "659                            NaN                   NaN    NaN   Judy Hopps   \n",
                        "660                            NaN                   NaN    NaN        Moana   \n",
                        "\n",
                        "                 villian               song  \n",
                        "0                    NaN                NaN  \n",
                        "1                    NaN                NaN  \n",
                        "2                    NaN                NaN  \n",
                        "3                    NaN                NaN  \n",
                        "4                    NaN                NaN  \n",
                        "..                   ...                ...  \n",
                        "656                Turbo         Sugar Rush  \n",
                        "657          Prince Hans        Let It Go\\n  \n",
                        "658  Professor Callaghan          Immortals  \n",
                        "659                  NaN     Try Everything  \n",
                        "660                  NaN  How Far I'll Go\\n  \n",
                        "\n",
                        "[661 rows x 16 columns]>\n",
                        "(661, 16)\n"
                    ]
                }
            ],
            "source": [
                "movies_total_gross = pd.read_csv('disney_movies_total_gross.csv')\n",
                "disney_revenue = pd.read_csv('disney_revenue_1991-2016.csv')\n",
                "characters = pd.read_csv('Disney_Characters_cleaned.csv')\n",
                "\n",
                "disney_main_df = pd.concat([movies_total_gross,disney_revenue,characters],ignore_index=True)\n",
                "\n",
                "print(disney_main_df.head)\n",
                "print(disney_main_df.shape)\n"
            ]
        },
        {
            "cell_type": "code",
            "execution_count": 25,
            "metadata": {},
            "outputs": [
                {
                    "name": "stdout",
                    "output_type": "stream",
                    "text": [
                        "Empty DataFrame\n",
                        "Columns: [movie_title, release_date, genre, MPAA_rating, total_gross, inflation_adjusted_gross, Year, Studio Entertainment[NI 1], Disney Consumer Products[NI 2], Disney Interactive[NI 3][Rev 1], Walt Disney Parks and Resorts, Disney Media Networks, Total, hero, villian, song]\n",
                        "Index: []\n"
                    ]
                }
            ],
            "source": [
                "duplicates = disney_main_df[disney_main_df.duplicated(keep=False)]\n",
                "print(duplicates)"
            ]
        },
        {
            "cell_type": "code",
            "execution_count": 26,
            "metadata": {},
            "outputs": [
                {
                    "name": "stdout",
                    "output_type": "stream",
                    "text": [
                        "movie_title                         26\n",
                        "release_date                        26\n",
                        "genre                               99\n",
                        "MPAA_rating                        138\n",
                        "total_gross                         82\n",
                        "inflation_adjusted_gross            82\n",
                        "Year                               635\n",
                        "Studio Entertainment[NI 1]         636\n",
                        "Disney Consumer Products[NI 2]     637\n",
                        "Disney Interactive[NI 3][Rev 1]    649\n",
                        "Walt Disney Parks and Resorts      635\n",
                        "Disney Media Networks              638\n",
                        "Total                              635\n",
                        "hero                               609\n",
                        "villian                            615\n",
                        "song                               614\n",
                        "dtype: int64\n"
                    ]
                }
            ],
            "source": [
                "missing_data = disney_main_df.isnull().sum()\n",
                "\n",
                "#printing missingdata in each column\n",
                "# Already know these numbers wil be very high from EDA as the majority of the data is string or object datatypes and or needs formatting updates as part of the cleaning process. \n",
                "print(missing_data[missing_data>0])"
            ]
        },
        {
            "cell_type": "code",
            "execution_count": 27,
            "metadata": {},
            "outputs": [
                {
                    "name": "stdout",
                    "output_type": "stream",
                    "text": [
                        "movies_total_gross shape: 579\n",
                        "disney_revenue shape: 26\n",
                        "characters shape: 56\n"
                    ]
                }
            ],
            "source": [
                "# Check the shape (number of rows) of each DataFrame\n",
                "print(\"movies_total_gross shape:\", movies_total_gross.shape[0])\n",
                "print(\"disney_revenue shape:\", disney_revenue.shape[0])\n",
                "print(\"characters shape:\", characters.shape[0])\n",
                "\n"
            ]
        },
        {
            "cell_type": "code",
            "execution_count": 28,
            "metadata": {},
            "outputs": [
                {
                    "name": "stdout",
                    "output_type": "stream",
                    "text": [
                        "0     184,925,485.00\n",
                        "1      84,300,000.00\n",
                        "2      83,320,000.00\n",
                        "3      65,000,000.00\n",
                        "4      85,000,000.00\n",
                        "           ...      \n",
                        "656              NaN\n",
                        "657              NaN\n",
                        "658              NaN\n",
                        "659              NaN\n",
                        "660              NaN\n",
                        "Name: total_gross, Length: 661, dtype: float64\n"
                    ]
                }
            ],
            "source": [
                "disney_main_df['total_gross'] = (\n",
                "    disney_main_df['total_gross']\n",
                "    .str.replace('$','',regex=False)\n",
                "    .str.replace(',','',regex=False)\n",
                "    .astype(float)\n",
                ")\n",
                "\n",
                "print(disney_main_df['total_gross'])"
            ]
        },
        {
            "cell_type": "code",
            "execution_count": 29,
            "metadata": {},
            "outputs": [
                {
                    "name": "stdout",
                    "output_type": "stream",
                    "text": [
                        "0     5,228,953,251.00\n",
                        "1     2,188,229,052.00\n",
                        "2     2,187,090,808.00\n",
                        "3     1,078,510,579.00\n",
                        "4       920,608,730.00\n",
                        "            ...       \n",
                        "656                NaN\n",
                        "657                NaN\n",
                        "658                NaN\n",
                        "659                NaN\n",
                        "660                NaN\n",
                        "Name: inflation_adjusted_gross, Length: 661, dtype: float64\n"
                    ]
                }
            ],
            "source": [
                "#convert object data type to string\n",
                "\n",
                "disney_main_df['inflation_adjusted_gross'] = disney_main_df['inflation_adjusted_gross'].astype(str)\n",
                "\n",
                "#strip dollarsigns and commas to make data more uniform\n",
                "disney_main_df['inflation_adjusted_gross'] = (\n",
                "    disney_main_df['inflation_adjusted_gross']\n",
                "    .str.replace('$','',regex=False)\n",
                "    .str.replace(',','',regex=False)\n",
                "    .astype(float)\n",
                ")\n",
                "\n",
                "# convert the float datatype to numeric\n",
                "\n",
                "disney_main_df['inflation_adjusted_gross']=pd.to_numeric(disney_main_df['inflation_adjusted_gross'],errors='coerce')\n",
                "# Set display options for pandas\n",
                "pd.set_option('display.float_format', '{:,.2f}'.format)\n",
                "print(disney_main_df['inflation_adjusted_gross'])\n",
                "\n",
                "\n"
            ]
        },
        {
            "cell_type": "code",
            "execution_count": 37,
            "metadata": {},
            "outputs": [
                {
                    "name": "stdout",
                    "output_type": "stream",
                    "text": [
                        "Empty DataFrame\n",
                        "Columns: [movie_title, release_date, genre, MPAA_rating, total_gross, inflation_adjusted_gross, Year, Studio Entertainment[NI 1], Disney Consumer Products[NI 2], Disney Interactive[NI 3][Rev 1], Walt Disney Parks and Resorts, Disney Media Networks, Total, hero, villian, song]\n",
                        "Index: []\n"
                    ]
                }
            ],
            "source": [
                "\n",
                "# Select rows 579 to 661\n",
                "rows_to_clean = disney_main_df.iloc[579:661]\n",
                "\n",
                "# Drop NaN values from the specified columns\n",
                "cleaned_rows = rows_to_clean.dropna(subset=[\n",
                "    'movie_title', 'release_date', 'genre', 'MPAA_rating',\n",
                "    'total_gross', 'inflation_adjusted_gross', 'Year', \n",
                "    'Studio Entertainment[NI 1]'\n",
                "])\n",
                "\n",
                "# Display the cleaned DataFrame\n",
                "print(cleaned_rows.to_string(index=False))\n"
            ]
        },
        {
            "cell_type": "code",
            "execution_count": 39,
            "metadata": {},
            "outputs": [
                {
                    "name": "stdout",
                    "output_type": "stream",
                    "text": [
                        "Original row count: 82\n",
                        "New row count after dropping NaNs: 0\n",
                        "\n",
                        "Remaining NaN values in cleaned DataFrame:\n",
                        "movie_title                        0\n",
                        "release_date                       0\n",
                        "genre                              0\n",
                        "MPAA_rating                        0\n",
                        "total_gross                        0\n",
                        "inflation_adjusted_gross           0\n",
                        "Year                               0\n",
                        "Studio Entertainment[NI 1]         0\n",
                        "Disney Consumer Products[NI 2]     0\n",
                        "Disney Interactive[NI 3][Rev 1]    0\n",
                        "Walt Disney Parks and Resorts      0\n",
                        "Disney Media Networks              0\n",
                        "Total                              0\n",
                        "hero                               0\n",
                        "villian                            0\n",
                        "song                               0\n",
                        "dtype: int64\n",
                        "\n",
                        "Cleaned DataFrame:\n",
                        "Empty DataFrame\n",
                        "Columns: [movie_title, release_date, genre, MPAA_rating, total_gross, inflation_adjusted_gross, Year, Studio Entertainment[NI 1], Disney Consumer Products[NI 2], Disney Interactive[NI 3][Rev 1], Walt Disney Parks and Resorts, Disney Media Networks, Total, hero, villian, song]\n",
                        "Index: []\n"
                    ]
                }
            ],
            "source": [
                "#remove NaN Values from rows 570 -661 as those values do not exist in the speciified columns since the csv. are different lengths and contaion different data\n",
                "# Select rows 579 to 661\n",
                "rows_to_clean = disney_main_df.iloc[579:661]\n",
                "\n",
                "# Check the original number of rows\n",
                "original_row_count = rows_to_clean.shape[0]\n",
                "print(f\"Original row count: {original_row_count}\")\n",
                "\n",
                "# Drop NaN values from the specified columns\n",
                "cleaned_rows = rows_to_clean.dropna(subset=[\n",
                "    'movie_title', 'release_date', 'genre', 'MPAA_rating',\n",
                "    'total_gross', 'inflation_adjusted_gross', 'Year', \n",
                "    'Studio Entertainment[NI 1]'\n",
                "])\n",
                "\n",
                "# Check the new number of rows\n",
                "new_row_count = cleaned_rows.shape[0]\n",
                "print(f\"New row count after dropping NaNs: {new_row_count}\")\n",
                "\n",
                "# Check for remaining NaN values in the cleaned DataFrame\n",
                "nan_counts = cleaned_rows.isna().sum()\n",
                "print(\"\\nRemaining NaN values in cleaned DataFrame:\")\n",
                "print(nan_counts)\n",
                "\n",
                "# Display the cleaned DataFrame\n",
                "print(\"\\nCleaned DataFrame:\")\n",
                "print(cleaned_rows.to_string(index=False))\n"
            ]
        },
        {
            "cell_type": "code",
            "execution_count": 42,
            "metadata": {},
            "outputs": [
                {
                    "name": "stdout",
                    "output_type": "stream",
                    "text": [
                        "0              NaN\n",
                        "1              NaN\n",
                        "2              NaN\n",
                        "3              NaN\n",
                        "4              NaN\n",
                        "          ...     \n",
                        "656          Ralph\n",
                        "657           Elsa\n",
                        "658    Hiro Hamada\n",
                        "659     Judy Hopps\n",
                        "660          Moana\n",
                        "Name: hero, Length: 661, dtype: object\n"
                    ]
                }
            ],
            "source": [
                "#check column which contains nan values up to 579 but has daa after that\n",
                "print(disney_main_df['hero'])"
            ]
        },
        {
            "cell_type": "markdown",
            "metadata": {
                "azdata_cell_guid": "1233f543-e9a0-4f78-96f5-d7536554102e"
            },
            "source": [
                "## Irregular Data\n",
                "\n",
                "Detect outliers in your dataset and handle them as needed. Use code comments to make notes about your thought process."
            ]
        },
        {
            "cell_type": "code",
            "execution_count": 43,
            "metadata": {},
            "outputs": [
                {
                    "name": "stdout",
                    "output_type": "stream",
                    "text": [
                        "         total_gross  inflation_adjusted_gross     Year  \\\n",
                        "count         579.00                    579.00     1.00   \n",
                        "mean   64,701,788.52            118,762,523.31 1,991.00   \n",
                        "std    93,013,006.12            286,085,280.04      NaN   \n",
                        "min             0.00                      0.00 1,991.00   \n",
                        "25%    12,788,864.00             22,741,232.00 1,991.00   \n",
                        "50%    30,702,446.00             55,159,783.00 1,991.00   \n",
                        "75%    75,709,033.00            119,202,000.00 1,991.00   \n",
                        "max   936,662,225.00          5,228,953,251.00 1,991.00   \n",
                        "\n",
                        "       Studio Entertainment[NI 1]  Disney Consumer Products[NI 2]  \\\n",
                        "count                        1.00                            1.00   \n",
                        "mean                     2,593.00                          724.00   \n",
                        "std                           NaN                             NaN   \n",
                        "min                      2,593.00                          724.00   \n",
                        "25%                      2,593.00                          724.00   \n",
                        "50%                      2,593.00                          724.00   \n",
                        "75%                      2,593.00                          724.00   \n",
                        "max                      2,593.00                          724.00   \n",
                        "\n",
                        "       Disney Interactive[NI 3][Rev 1]  Walt Disney Parks and Resorts    Total  \n",
                        "count                             0.00                           1.00     1.00  \n",
                        "mean                               NaN                       2,794.00 6,111.00  \n",
                        "std                                NaN                            NaN      NaN  \n",
                        "min                                NaN                       2,794.00 6,111.00  \n",
                        "25%                                NaN                       2,794.00 6,111.00  \n",
                        "50%                                NaN                       2,794.00 6,111.00  \n",
                        "75%                                NaN                       2,794.00 6,111.00  \n",
                        "max                                NaN                       2,794.00 6,111.00  \n"
                    ]
                }
            ],
            "source": [
                "import numpy as np\n",
                "# Analyze rows 0-580 as that will contatin the bulk of the numerical data. \n",
                "rows_to_analyze = disney_main_df.iloc[0:580]\n",
                "\n",
                "# describe to see basic statitsics\n",
                "print(rows_to_analyze.describe())"
            ]
        },
        {
            "cell_type": "code",
            "execution_count": 4,
            "metadata": {
                "azdata_cell_guid": "efed50ae-16f0-471d-98e2-632553a74c12"
            },
            "outputs": [
                {
                    "name": "stdout",
                    "output_type": "stream",
                    "text": [
                        "Outliers in 'total_gross':\n",
                        "   total_gross  inflation_adjusted_gross\n",
                        "4    936662225                5228953251\n",
                        "Outliers in 'inflation_adjusted_gross':\n",
                        "   total_gross  inflation_adjusted_gross\n",
                        "4    936662225                5228953251\n"
                    ]
                }
            ],
            "source": [
                "\n",
                "#load dat frmt he above desribed stats\n",
                "data = {\n",
                "    'total_gross': [0, 12788864, 30702446, 75709033, 936662225],\n",
                "    'inflation_adjusted_gross': [0, 22741232, 55159783, 119202000, 5228953251]\n",
                "}\n",
                "\n",
                "disney_main_df = pd.DataFrame(data)\n",
                "\n",
                "# Calculate IQR for 'total_gross'\n",
                "Q1_gross = disney_main_df['total_gross'].quantile(0.25)\n",
                "Q3_gross = disney_main_df['total_gross'].quantile(0.75)\n",
                "IQR_gross = Q3_gross - Q1_gross\n",
                "\n",
                "# Outlier bounds for 'total_gross'\n",
                "lower_bound_gross = Q1_gross - 1.5 * IQR_gross\n",
                "upper_bound_gross = Q3_gross + 1.5 * IQR_gross\n",
                "\n",
                "# outliers in 'total_gross'\n",
                "outliers_gross = disney_main_df[(disney_main_df['total_gross'] < lower_bound_gross) | (disney_main_df['total_gross'] > upper_bound_gross)]\n",
                "print(\"Outliers in 'total_gross':\")\n",
                "print(outliers_gross)\n",
                "\n",
                "# Calculate IQR for 'inflation_adjusted_gross'\n",
                "Q1_adjusted = disney_main_df['inflation_adjusted_gross'].quantile(0.25)\n",
                "Q3_adjusted = disney_main_df['inflation_adjusted_gross'].quantile(0.75)\n",
                "IQR_adjusted = Q3_adjusted - Q1_adjusted\n",
                "\n",
                "# Outlier bounds for 'inflation_adjusted_gross'\n",
                "lower_bound_adjusted = Q1_adjusted - 1.5 * IQR_adjusted\n",
                "upper_bound_adjusted = Q3_adjusted + 1.5 * IQR_adjusted\n",
                "\n",
                "# outliers in 'inflation_adjusted_gross'\n",
                "outliers_adjusted = disney_main_df[(disney_main_df['inflation_adjusted_gross'] < lower_bound_adjusted) | (disney_main_df['inflation_adjusted_gross'] > upper_bound_adjusted)]\n",
                "print(\"Outliers in 'inflation_adjusted_gross':\")\n",
                "print(outliers_adjusted)\n"
            ]
        },
        {
            "cell_type": "markdown",
            "metadata": {
                "azdata_cell_guid": "6f5b8ee0-bab3-44bc-958a-67d1e4c0407f"
            },
            "source": [
                "## Unnecessary Data\n",
                "\n",
                "Look for the different types of unnecessary data in your dataset and address it as needed. Make sure to use code comments to illustrate your thought process."
            ]
        },
        {
            "cell_type": "code",
            "execution_count": null,
            "metadata": {
                "azdata_cell_guid": "e788a239-2fbf-41de-9bd3-19e52e3b187c"
            },
            "outputs": [],
            "source": [
                "# Not using the disney-director or disney-voice-actor CSVs as I have determined that information will not be relevant to this specifiv business question"
            ]
        },
        {
            "cell_type": "markdown",
            "metadata": {
                "azdata_cell_guid": "53e0cf94-c68a-4fa0-9849-9505a66bcce6"
            },
            "source": [
                "## Inconsistent Data\n",
                "\n",
                "Check for inconsistent data and address any that arises. As always, use code comments to illustrate your thought process."
            ]
        },
        {
            "cell_type": "code",
            "execution_count": 23,
            "metadata": {
                "azdata_cell_guid": "e9de6624-812a-43f8-8e20-93b4a49b091f"
            },
            "outputs": [
                {
                    "name": "stdout",
                    "output_type": "stream",
                    "text": [
                        "Number of duplicate rows: 0\n",
                        "Unique values in genre: ['Musical' 'Adventure' 'Drama' 'Comedy' '' 'Action' 'Horror'\n",
                        " 'Romantic Comedy' 'Thriller/Suspense' 'Western' 'Black Comedy'\n",
                        " 'Documentary' 'Concert/Performance']\n",
                        "Unique values in MPAA_rating: ['G' '' 'Not Rated' 'PG' 'R' 'PG-13']\n",
                        "<class 'pandas.core.frame.DataFrame'>\n",
                        "RangeIndex: 661 entries, 0 to 660\n",
                        "Data columns (total 16 columns):\n",
                        " #   Column                           Non-Null Count  Dtype  \n",
                        "---  ------                           --------------  -----  \n",
                        " 0   movie_title                      661 non-null    object \n",
                        " 1   release_date                     661 non-null    object \n",
                        " 2   genre                            661 non-null    object \n",
                        " 3   MPAA_rating                      661 non-null    object \n",
                        " 4   total_gross                      661 non-null    object \n",
                        " 5   inflation_adjusted_gross         661 non-null    object \n",
                        " 6   Year                             26 non-null     float64\n",
                        " 7   Studio Entertainment[NI 1]       25 non-null     float64\n",
                        " 8   Disney Consumer Products[NI 2]   24 non-null     float64\n",
                        " 9   Disney Interactive[NI 3][Rev 1]  12 non-null     float64\n",
                        " 10  Walt Disney Parks and Resorts    26 non-null     float64\n",
                        " 11  Disney Media Networks            661 non-null    object \n",
                        " 12  Total                            26 non-null     float64\n",
                        " 13  hero                             661 non-null    object \n",
                        " 14  villian                          661 non-null    object \n",
                        " 15  song                             661 non-null    object \n",
                        "dtypes: float64(6), object(10)\n",
                        "memory usage: 82.8+ KB\n",
                        "None\n"
                    ]
                }
            ],
            "source": [
                "\n",
                "movies_total_gross = pd.read_csv('disney_movies_total_gross.csv')\n",
                "disney_revenue = pd.read_csv('disney_revenue_1991-2016.csv')\n",
                "characters = pd.read_csv('Disney_Characters_cleaned.csv')\n",
                "\n",
                "disney_main_df = pd.concat([movies_total_gross,disney_revenue,characters],ignore_index=True)\n",
                "\n",
                "# object columns to convert to strings\n",
                "object_columns = [\n",
                "    'movie_title', 'release_date', 'genre', 'MPAA_rating', \n",
                "    'total_gross', 'inflation_adjusted_gross', 'Disney Media Networks', \n",
                "    'hero', 'villian', 'song', \n",
                "]\n",
                "\n",
                "# Convert object columns to strings and handle NaN values\n",
                "for col in object_columns:\n",
                "    disney_main_df[col] = disney_main_df[col].astype(str).replace('nan', '').str.strip()\n",
                "\n",
                "# Fill missing values with 'Unknown' for genre and 'Not Rated' for MPAA_rating\n",
                "disney_main_df['genre'] = disney_main_df['genre'].fillna('Unknown')\n",
                "disney_main_df['MPAA_rating'] = disney_main_df['MPAA_rating'].fillna('Not Rated')\n",
                "\n",
                "\n",
                "duplicates = disney_main_df.duplicated().sum()\n",
                "print(f\"Number of duplicate rows: {duplicates}\")\n",
                "\n",
                "# Check for unique values in categorical columns\n",
                "for col in ['genre', 'MPAA_rating']:\n",
                "    print(f\"Unique values in {col}: {disney_main_df[col].unique()}\")\n",
                "\n",
                "print(disney_main_df.info())"
            ]
        },
        {
            "cell_type": "code",
            "execution_count": 16,
            "metadata": {},
            "outputs": [
                {
                    "name": "stdout",
                    "output_type": "stream",
                    "text": [
                        "['$184,925,485' '$84,300,000' '$83,320,000' '$65,000,000' '$85,000,000'\n",
                        " '$28,200,000' '$93,600,000' '$9,464,608' '$153,000,000' '$25,381,407'\n",
                        " '$10,218,316' '$9,230,769' '$22,182,353' '$141,843,000' '$21,540,050'\n",
                        " '$55,675,257' '$18,607,492' '$17,871,174' '$31,916,500' '$25,942,000'\n",
                        " '$0' '$48,775,599' '$28,000,000' '$35,841,901' '$2,900,000' '$11,000,000'\n",
                        " '$16,000,000' '$43,899,231' '$4,500,000' '$26,918,576' '$7,199,408'\n",
                        " '$4,304,286' '$5,656,087' '$27,668,764' '$1,204,595' '$62,599,495'\n",
                        " '$8,400,000' '$14,276,095' '$10,618,813' '$21,288,692' '$4,100,000'\n",
                        " '$9,468,512' '$13,229,514' '$62,134,225' '$4,842,778' '$71,624,879'\n",
                        " '$23,605,534' '$18,564,613' '$21,458,229' '$52,293,000' '$52,864,741'\n",
                        " '$25,411,386' '$23,509,382' '$15,212,539' '$33,790,923' '$65,673,233'\n",
                        " '$31,623,833' '$20,419,446' '$167,780,960' '$123,922,370' '$29,300,000'\n",
                        " '$12,706,478' '$13,687,027' '$40,150,487' '$154,112,492' '$78,222,753'\n",
                        " '$5,855,392' '$5,509,417' '$4,764,606' '$28,202,109' '$49,576,671'\n",
                        " '$57,041,866' '$40,590,000' '$10,763,469' '$7,210,149' '$95,860,116'\n",
                        " '$130,724,172' '$71,079,915' '$7,882,250' '$19,397,847' '$11,346,186'\n",
                        " '$111,543,479' '$19,049,727' '$20,062,347' '$1,106,475' '$178,406,268'\n",
                        " '$25,029,569' '$15,000,000' '$14,760,451' '$103,738,726' '$19,740,070'\n",
                        " '$53,208,180' '$18,075,331' '$20,005,435' '$15,379,253' '$27,931,461'\n",
                        " '$71,609,321' '$29,804,169' '$34,729,091' '$9,563,393' '$15,024,232'\n",
                        " '$12,454,768' '$23,562,716' '$11,276,846' '$63,710,000' '$7,300,000'\n",
                        " '$46,573,027' '$37,497,480' '$18,634,643' '$28,738,096' '$14,143,280'\n",
                        " '$15,565,363' '$218,951,625' '$89,325,780' '$88,036,683' '$44,948,240'\n",
                        " '$2,891,055' '$2,280,148' '$21,202,099' '$2,706,352' '$4,030,793'\n",
                        " '$40,057,130' '$139,605,150' '$58,662,452' '$12,282,994' '$29,028,000'\n",
                        " '$3,591,460' '$22,518,097' '$7,306,242' '$4,877,567' '$50,752,337'\n",
                        " '$7,099,531' '$21,591,728' '$217,350,219' '$46,434,570' '$27,281,507'\n",
                        " '$36,299,670' '$7,843,388' '$41,833,324' '$5,583,621' '$5,632,086'\n",
                        " '$12,890,752' '$17,760,754' '$24,103,594' '$4,496,583' '$14,717,851'\n",
                        " '$20,844,907' '$22,622,537' '$12,349,549' '$39,100,956' '$25,989,889'\n",
                        " '$39,360,491' '$20,107,504' '$3,218,882' '$3,268,203' '$32,790,064'\n",
                        " '$1,044,824' '$23,042,200' '$68,856,263' '$50,408,318' '$53,661,805'\n",
                        " '$57,319,029' '$56,505,065' '$20,782,439' '$3,469,493' '$20,623,071'\n",
                        " '$2,502,551' '$30,573,770' '$9,252,349' '$11,325,885' '$45,604,206'\n",
                        " '$713,234' '$8,752,399' '$8,864,699' '$50,021,959' '$11,744,960'\n",
                        " '$24,172,899' '$422,780,140' '$30,806,194' '$50,236,831' '$28,881,266'\n",
                        " '$19,750,470' '$10,442,641' '$60,822' '$3,404,935' '$24,787,282'\n",
                        " '$16,478,900' '$5,828,466' '$8,579,626' '$3,319,344' '$144,833,357'\n",
                        " '$29,317,886' '$44,342,956' '$26,325,256' '$3,523,909' '$5,086,578'\n",
                        " '$7,555,256' '$17,671,310' '$40,029,009' '$12,076,989' '$8,247,627'\n",
                        " '$468,240' '$2,461,628' '$529,135' '$35,336,439' '$81,057,016'\n",
                        " '$91,387,195' '$15,446,532' '$141,579,773' '$34,687,912' '$24,670,346'\n",
                        " '$84,919,401' '$13,406,717' '$5,762,795' '$7,929,000' '$17,736,619'\n",
                        " '$24,120,194' '$10,359,006' '$293,274' '$30,833,914' '$191,796,233'\n",
                        " '$76,578,911' '$13,668,249' '$23,837,227' '$82,582,604' '$10,229,300'\n",
                        " '$34,327,391' '$12,805,071' '$8,642,118' '$51,045,801' '$32,709,423'\n",
                        " '$1,078,555' '$1,029,731' '$28,921,264' '$9,240,378' '$5,857,534'\n",
                        " '$21,930,418' '$26,936,265' '$31,369,401' '$134,069,511' '$100,138,851'\n",
                        " '$104,636,382' '$18,880,508' '$58,617,334' '$26,465,920' '$8,538,318'\n",
                        " '$22,936,273' '$12,772,657' '$136,492,681' '$34,368' '$136,189,294'\n",
                        " '$48,102,795' '$50,047,179' '$32,017,895' '$590,817' '$2,154,540'\n",
                        " '$18,301,828' '$59,925,026' '$14,765,099' '$28,084,357' '$29,235,353'\n",
                        " '$19,745,922' '$101,117,573' '$99,112,101' '$105,263,257' '$44,480,039'\n",
                        " '$24,646,936' '$48,169,156' '$7,928,412' '$1,775,644' '$15,448,043'\n",
                        " '$4,166,918' '$92,993,801' '$26,570,463' '$21,437,192' '$5,686,694'\n",
                        " '$11,203,026' '$7,571,115' '$45,779' '$4,356,126' '$21,567,853'\n",
                        " '$75,383,563' '$74,339,294' '$120,620,254' '$201,578,182' '$19,843,795'\n",
                        " '$66,308,518' '$784,419' '$18,253,415' '$12,069,719' '$22,852,487'\n",
                        " '$161,491,646' '$12,214,338' '$162,798,565' '$111,549,836' '$17,105,219'\n",
                        " '$56,709,981' '$50,632,037' '$36,850,101' '$27,807,627' '$19,421,271'\n",
                        " '$38,177,966' '$229,128' '$34,105,207' '$171,091,819' '$19,288,130'\n",
                        " '$97,387,965' '$293,506,292' '$32,698,899' '$178,287' '$4,559,569'\n",
                        " '$8,891,623' '$6,197,866' '$28,965,197' '$245,852,179' '$2,899,970'\n",
                        " '$65,535,067' '$58,220,776' '$8,427,204' '$60,507,228' '$1,638,202'\n",
                        " '$45,542,421' '$60,874,615' '$27,277,055' '$37,036,404' '$137,748,063'\n",
                        " '$56,932,305' '$101,643,008' '$9,103,630' '$69,688,384' '$60,786,269'\n",
                        " '$13,019,253' '$4,734,235' '$115,654,751' '$94,999,143' '$66,941,559'\n",
                        " '$89,296,573' '$45,506,619' '$29,823,162' '$36,696,761' '$4,777,007'\n",
                        " '$198,539,855' '$84,052,762' '$16,929,123' '$108,244,774' '$5,002,310'\n",
                        " '$17,292,381' '$23,978,402' '$226,792' '$289,423,425' '$13,906,394'\n",
                        " '$52,353,636' '$25,487,028' '$81,150,692' '$54,228,104' '$48,430,258'\n",
                        " '$43,061,982' '$10,198,766' '$75,600,072' '$7,262,288' '$4,197,175'\n",
                        " '$30,157,016' '$145,771,527' '$16,988,996' '$227,965,690' '$10,049,886'\n",
                        " '$127,214,072' '$6,830,957' '$19,161,999' '$139,225,854' '$38,120,554'\n",
                        " '$35,081,550' '$13,084,595' '$52,784,696' '$60,470,220' '$47,901,582'\n",
                        " '$132,675,402' '$23,103,423' '$17,093,668' '$67,383,924' '$42,734,455'\n",
                        " '$380,529,370' '$305,411,224' '$110,222,438' '$58,331,254' '$21,384,035'\n",
                        " '$43,601,508' '$1,569,918' '$85,336,277' '$75,817,994' '$31,011,616'\n",
                        " '$6,751,389' '$6,491,969' '$64,378,093' '$29,331,068' '$67,286,731'\n",
                        " '$39,692,139' '$50,026,353' '$22,406,362' '$37,485,528' '$24,004,159'\n",
                        " '$314,000' '$51,877,963' '$114,197,520' '$95,149,435' '$21,800,302'\n",
                        " '$463,730' '$74,541,707' '$261,441,092' '$173,005,002' '$24,006,726'\n",
                        " '$8,968,684' '$18,098,433' '$113,006,880' '$24,381,334' '$21,835,784'\n",
                        " '$51,019,112' '$4,710,455' '$66,010,682' '$25,473,093' '$63,939,454'\n",
                        " '$19,478,106' '$89,706,988' '$15,331,289' '$10,284,523' '$135,386,665'\n",
                        " '$291,710,957' '$11,304,403' '$42,647,449' '$17,127,992' '$10,407,978'\n",
                        " '$81,612,565' '$61,123,569' '$23,086,480' '$37,384,046' '$26,910,736'\n",
                        " '$4,283,255' '$244,082,982' '$423,315,812' '$65,328,121' '$57,806,952'\n",
                        " '$55,011,732' '$53,089,891' '$24,732,041' '$84,500,122' '$64,038,616'\n",
                        " '$50,866,635' '$10,597,734' '$82,234,139' '$168,213,584' '$97,822,171'\n",
                        " '$4,600,585' '$7,164,995' '$20,568,319' '$309,420,425' '$206,445,654'\n",
                        " '$43,760,605' '$90,648,202' '$47,642,963' '$127,706,877' '$219,961,501'\n",
                        " '$65,281,781' '$58,017,783' '$45,610,425' '$141,621,490' '$223,808,164'\n",
                        " '$16,289,867' '$225,067' '$7,916,887' '$94,514,402' '$275,093'\n",
                        " '$90,559,416' '$114,053,759' '$110,101,975' '$44,277,350' '$38,174,685'\n",
                        " '$67,172,594' '$79,576,189' '$32,011,576' '$293,004,164' '$163,958,031'\n",
                        " '$119,436,770' '$15,090,399' '$1,391,434' '$20,521' '$38,577,772'\n",
                        " '$30,702,446' '$137,855,863' '$104,400,899' '$49,492,060' '$32,680,633'\n",
                        " '$334,191,110' '$80,741' '$62,950,384' '$19,422,319' '$90,759,676'\n",
                        " '$415,004,880' '$63,150,991' '$42,400,223' '$48,658' '$25,702,053'\n",
                        " '$59,699,513' '$200,821,936' '$172,062,763' '$99,967,670' '$55,100,437'\n",
                        " '$21,392,758' '$15,428,747' '$2,815' '$10,130,219' '$241,063,875'\n",
                        " '$191,450,875' '$26,692,846' '$169,705,587' '$18,298,649' '$85,463,309'\n",
                        " '$88,625,922' '$79,883,359' '$19,192,510' '$73,058,679' '$28,965,459'\n",
                        " '$623,279,547' '$237,282,182' '$12,431,792' '$51,853,450' '$35,287,788'\n",
                        " '$189,412,677' '$182,207,973' '$234,770,996' '$408,992,272'\n",
                        " '$268,488,329' '$89,302,115' '$90,282,580' '$3,254,172' '$206,362,140'\n",
                        " '$5,201,879' '$400,738,009' '$30,659,817' '$83,299,761' '$43,568,507'\n",
                        " '$51,178,893' '$259,746,958' '$17,780,194' '$36,447,959' '$241,407,328'\n",
                        " '$59,157,732' '$333,172,112' '$54,235,441' '$66,954,149' '$222,527,828'\n",
                        " '$128,002,372' '$12,429,583' '$44,480,275' '$201,151,353' '$16,432,322'\n",
                        " '$459,005,868' '$93,436,322' '$356,461,711' '$180,202,163' '$72,313,754'\n",
                        " '$123,087,120' '$936,662,225' '$27,569,558' '$341,268,248' '$364,001,123'\n",
                        " '$7,895,708' '$408,084,349' '$77,042,381' '$486,295,561' '$55,483,770'\n",
                        " '$76,233,151' '$12,545,979' '$8,874,389' '$232,532,923' '$246,082,029'\n",
                        " '$529,483,936' '']\n",
                        "['$5,228,953,251' '$2,188,229,052' '$2,187,090,808' '$1,078,510,579'\n",
                        " '$920,608,730' '$528,279,994' '$1,236,035,515' '$21,505,832'\n",
                        " '$1,362,870,985' '$310,094,574' '$124,841,160' '$109,581,646'\n",
                        " '$153,870,834' '$789,612,346' '$138,612,686' '$255,161,499'\n",
                        " '$101,200,742' '$91,305,448' '$131,246,872' '$98,067,733' '$0'\n",
                        " '$159,743,914' '$105,847,527' '$120,377,374' '$9,088,096' '$34,472,116'\n",
                        " '$48,517,980' '$133,118,889' '$12,903,059' '$77,184,895' '$20,643,199'\n",
                        " '$11,519,089' '$15,136,765' '$70,669,955' '$3,223,725' '$157,057,661'\n",
                        " '$21,075,000' '$33,900,697' '$25,215,934' '$50,553,142' '$9,736,051'\n",
                        " '$22,302,956' '$31,415,432' '$141,183,693' '$11,003,932' '$162,748,712'\n",
                        " '$53,637,367' '$42,183,197' '$48,758,184' '$117,957,323' '$113,976,921'\n",
                        " '$54,787,202' '$50,686,462' '$32,798,382' '$72,853,569' '$141,592,160'\n",
                        " '$68,181,300' '$44,024,529' '$353,334,607' '$254,414,837' '$60,097,074'\n",
                        " '$26,062,188' '$28,073,384' '$82,352,451' '$316,250,084' '$160,442,289'\n",
                        " '$12,009,960' '$11,300,331' '$9,772,655' '$57,845,202' '$102,254,492'\n",
                        " '$120,381,757' '$85,757,817' '$22,740,861' '$15,233,465' '$202,531,517'\n",
                        " '$276,191,669' '$150,176,361' '$16,653,473' '$40,983,414' '$23,972,012'\n",
                        " '$223,726,012' '$39,884,640' '$40,077,147' '$2,210,321' '$356,389,765'\n",
                        " '$49,999,822' '$29,964,452' '$29,485,923' '$207,231,621' '$39,433,357'\n",
                        " '$106,290,270' '$36,107,823' '$39,963,460' '$30,722,056' '$55,796,728'\n",
                        " '$143,108,869' '$59,679,131' '$69,540,672' '$19,149,495' '$30,084,149'\n",
                        " '$24,939,118' '$47,181,395' '$22,580,472' '$127,571,325' '$14,617,333'\n",
                        " '$93,256,673' '$75,084,021' '$37,313,540' '$57,544,453' '$28,320,147'\n",
                        " '$31,167,691' '$363,017,667' '$179,821,881' '$178,831,137' '$91,304,495'\n",
                        " '$5,872,667' '$4,631,720' '$43,068,356' '$5,497,481' '$8,187,848'\n",
                        " '$81,369,058' '$283,583,472' '$119,162,518' '$24,950,752' '$58,965,304'\n",
                        " '$7,295,423' '$45,741,576' '$14,841,352' '$9,907,922' '$103,120,810'\n",
                        " '$14,421,454' '$43,859,823' '$441,969,178' '$94,349,900' '$55,417,615'\n",
                        " '$73,914,543' '$15,970,955' '$85,182,343' '$11,369,541' '$11,468,231'\n",
                        " '$26,248,558' '$36,165,012' '$49,080,505' '$9,156,084' '$29,968,953'\n",
                        " '$42,445,058' '$46,064,723' '$25,146,538' '$79,618,610' '$52,921,433'\n",
                        " '$80,147,079' '$40,943,541' '$6,554,384' '$6,654,819' '$66,768,171'\n",
                        " '$2,127,496' '$46,919,256' '$140,392,731' '$100,026,637' '$109,310,377'\n",
                        " '$116,965,668' '$115,781,734' '$42,940,186' '$7,168,577' '$42,610,902'\n",
                        " '$5,170,709' '$63,170,804' '$19,116,981' '$23,401,275' '$94,226,333'\n",
                        " '$1,473,665' '$18,083,994' '$18,316,030' '$103,354,194' '$24,267,154'\n",
                        " '$49,945,474' '$761,640,898' '$63,651,027' '$103,798,152' '$59,673,787'\n",
                        " '$40,804,816' '$21,576,332' '$125,666' '$7,035,189' '$50,840,394'\n",
                        " '$34,048,315' '$12,042,634' '$17,727,017' '$6,858,345' '$298,369,717'\n",
                        " '$60,321,919' '$88,930,321' '$51,016,522' '$6,829,092' '$9,857,435'\n",
                        " '$14,641,561' '$34,245,779' '$77,573,459' '$23,404,369' '$15,983,331'\n",
                        " '$907,414' '$4,770,461' '$1,025,425' '$68,479,579' '$157,082,900'\n",
                        " '$177,102,077' '$29,934,306' '$274,370,957' '$67,222,776' '$47,809,421'\n",
                        " '$164,552,293' '$25,981,285' '$11,167,895' '$15,365,850' '$34,372,339'\n",
                        " '$46,741,467' '$20,075,033' '$568,342' '$59,727,216' '$370,409,631'\n",
                        " '$147,658,438' '$26,302,005' '$45,911,517' '$157,508,868' '$19,509,726'\n",
                        " '$65,470,567' '$24,422,334' '$16,482,589' '$97,356,578' '$62,384,706'\n",
                        " '$2,057,055' '$1,963,937' '$55,159,783' '$17,623,615' '$11,171,714'\n",
                        " '$41,826,566' '$51,373,912' '$59,828,966' '$255,702,705' '$190,988,799'\n",
                        " '$199,559,799' '$36,009,655' '$111,792,852' '$50,465,108' '$16,284,619'\n",
                        " '$43,713,554' '$24,333,094' '$259,807,820' '$65,543' '$258,728,898'\n",
                        " '$91,076,877' '$92,077,628' '$58,804,106' '$1,085,093' '$3,957,025'\n",
                        " '$33,613,158' '$110,058,379' '$27,117,599' '$51,579,764' '$53,693,680'\n",
                        " '$36,265,379' '$185,712,664' '$182,029,412' '$193,326,632' '$81,692,095'\n",
                        " '$45,266,588' '$88,467,531' '$14,561,324' '$3,257,546' '$28,371,890'\n",
                        " '$7,652,965' '$170,406,423' '$48,546,161' '$39,145,784' '$10,236,836'\n",
                        " '$20,136,775' '$13,608,633' '$82,277' '$7,829,877' '$38,766,948'\n",
                        " '$135,497,531' '$133,620,516' '$216,807,832' '$362,324,957' '$35,668,055'\n",
                        " '$119,185,667' '$1,409,943' '$32,809,442' '$21,694,605' '$41,062,682'\n",
                        " '$288,691,833' '$21,941,840' '$288,981,698' '$198,472,008' '$28,392,518'\n",
                        " '$94,139,530' '$87,906,042' '$61,150,849' '$46,145,331' '$32,228,598'\n",
                        " '$63,354,375' '$380,218' '$56,595,842' '$283,900,254' '$32,007,656'\n",
                        " '$161,610,341' '$485,424,724' '$54,262,148' '$295,851' '$7,566,363'\n",
                        " '$14,755,189' '$10,111,144' '$47,794,214' '$404,450,426' '$4,609,153'\n",
                        " '$106,921,374' '$94,838,225' '$13,180,524' '$94,852,354' '$2,562,155'\n",
                        " '$71,228,678' '$95,208,344' '$42,661,516' '$57,925,202' '$215,438,985'\n",
                        " '$89,042,541' '$158,970,411' '$14,238,144' '$108,993,148' '$95,070,168'\n",
                        " '$20,362,201' '$7,404,372' '$180,742,479' '$148,208,901' '$104,055,039'\n",
                        " '$136,789,252' '$67,922,002' '$44,418,589' '$54,656,124' '$7,114,869'\n",
                        " '$295,705,112' '$125,188,122' '$25,214,223' '$161,218,928' '$7,450,434'\n",
                        " '$25,749,730' '$35,705,805' '$337,782' '$416,073,179' '$20,700,691'\n",
                        " '$76,758,193' '$36,980,311' '$117,745,317' '$78,682,079' '$70,269,715'\n",
                        " '$62,480,631' '$14,797,862' '$109,691,666' '$10,537,188' '$6,089,874'\n",
                        " '$43,756,218' '$211,506,702' '$24,650,121' '$330,754,439' '$14,338,992'\n",
                        " '$184,521,151' '$9,909,094' '$27,789,959' '$201,959,095' '$55,189,145'\n",
                        " '$50,624,654' '$18,325,463' '$73,793,522' '$84,537,962' '$66,966,883'\n",
                        " '$185,481,530' '$32,298,812' '$23,803,108' '$94,203,395' '$59,743,191'\n",
                        " '$518,148,559' '$426,967,926' '$154,090,360' '$81,547,672' '$29,895,090'\n",
                        " '$60,944,053' '$2,194,759' '$119,218,333' '$105,775,678' '$42,379,650'\n",
                        " '$9,254,344' '$8,812,764' '$87,392,478' '$39,816,568' '$91,340,921'\n",
                        " '$53,881,593' '$67,910,166' '$30,416,359' '$50,886,144' '$32,585,356'\n",
                        " '$426,246' '$70,423,706' '$155,021,748' '$129,164,207' '$29,593,641'\n",
                        " '$629,502' '$101,161,045' '$354,488,708' '$234,069,353' '$32,198,655'\n",
                        " '$11,740,942' '$23,801,835' '$148,619,029' '$32,064,685' '$28,716,947'\n",
                        " '$67,096,891' '$6,194,870' '$86,812,798' '$33,500,491' '$84,088,854'\n",
                        " '$25,616,292' '$117,960,425' '$20,162,672' '$13,519,621' '$177,954,661'\n",
                        " '$381,557,539' '$14,574,087' '$54,888,236' '$22,044,113' '$12,948,025'\n",
                        " '$105,037,235' '$78,667,428' '$29,712,825' '$48,114,115' '$34,634,731'\n",
                        " '$5,512,647' '$314,140,384' '$544,817,142' '$84,078,780' '$74,398,864'\n",
                        " '$70,801,353' '$68,289,913' '$30,737,517' '$108,694,869' '$82,267,038'\n",
                        " '$64,959,548' '$12,985,302' '$100,760,721' '$206,110,533' '$119,860,589'\n",
                        " '$5,637,048' '$8,779,196' '$25,202,168' '$379,129,960' '$252,955,933'\n",
                        " '$53,619,462' '$111,010,758' '$58,350,234' '$156,074,310' '$267,003,525'\n",
                        " '$76,646,993' '$68,118,371' '$53,550,960' '$166,277,038' '$262,771,918'\n",
                        " '$19,125,841' '$264,247' '$9,295,171' '$110,932,022' '$322,979'\n",
                        " '$106,308,538' '$133,702,498' '$128,039,679' '$49,767,744' '$38,174,685'\n",
                        " '$75,501,997' '$89,443,640' '$35,981,010' '$329,336,681' '$184,288,829'\n",
                        " '$134,246,932' '$16,961,607' '$1,563,976' '$23,064' '$43,361,416'\n",
                        " '$34,509,545' '$154,927,105' '$116,316,457' '$55,503,929' '$34,917,330'\n",
                        " '$357,063,499' '$86,264' '$67,258,772' '$20,751,600' '$96,971,361'\n",
                        " '$443,408,255' '$67,473,105' '$45,302,137' '$51,988' '$27,461,121'\n",
                        " '$63,781,920' '$214,388,548' '$183,619,259' '$106,270,797' '$58,574,607'\n",
                        " '$22,741,603' '$16,401,551' '$2,984' '$10,768,946' '$256,263,359'\n",
                        " '$203,522,177' '$28,375,869' '$180,404,976' '$19,452,402' '$90,848,019'\n",
                        " '$94,189,503' '$84,762,149' '$20,325,733' '$77,372,445' '$30,675,725'\n",
                        " '$660,081,224' '$251,292,441' '$13,165,822' '$54,914,942' '$37,363,513'\n",
                        " '$200,354,959' '$192,122,330' '$243,434,130' '$424,084,233'\n",
                        " '$278,395,641' '$92,597,388' '$93,614,037' '$3,374,251' '$213,962,184'\n",
                        " '$5,367,415' '$414,997,174' '$31,787,136' '$86,249,969' '$44,955,015'\n",
                        " '$52,807,594' '$268,013,076' '$18,346,024' '$37,607,865' '$249,089,809'\n",
                        " '$61,040,349' '$343,771,168' '$55,961,409' '$69,055,550' '$229,249,222'\n",
                        " '$130,894,237' '$12,429,583' '$44,480,275' '$201,151,353' '$16,432,322'\n",
                        " '$459,005,868' '$93,436,322' '$356,461,711' '$180,202,163' '$72,313,754'\n",
                        " '$123,087,120' '$936,662,225' '$27,569,558' '$341,268,248' '$364,001,123'\n",
                        " '$7,895,708' '$408,084,349' '$77,042,381' '$486,295,561' '$55,483,770'\n",
                        " '$76,233,151' '$12,545,979' '$8,874,389' '$232,532,923' '$246,082,029'\n",
                        " '$529,483,936' '']\n"
                    ]
                }
            ],
            "source": [
                "# View unique values in the columns\n",
                "print(disney_main_df['total_gross'].unique())\n",
                "print(disney_main_df['inflation_adjusted_gross'].unique())\n"
            ]
        },
        {
            "cell_type": "code",
            "execution_count": 18,
            "metadata": {},
            "outputs": [],
            "source": [
                "# Replace empty strings with NaN\n",
                "disney_main_df['total_gross'] = disney_main_df['total_gross'].replace('', np.nan)\n",
                "disney_main_df['inflation_adjusted_gross'] = disney_main_df['inflation_adjusted_gross'].replace('', np.nan)\n",
                "\n"
            ]
        },
        {
            "cell_type": "code",
            "execution_count": 20,
            "metadata": {},
            "outputs": [],
            "source": [
                "# Convert to float after cleaning up the strings\n",
                "disney_main_df['total_gross'] = disney_main_df['total_gross'].replace({'$': '', ',': ''}, regex=True).astype(float)\n",
                "disney_main_df['inflation_adjusted_gross'] = disney_main_df['inflation_adjusted_gross'].replace({'$': '', ',': ''}, regex=True).astype(float)\n"
            ]
        },
        {
            "cell_type": "code",
            "execution_count": 21,
            "metadata": {},
            "outputs": [],
            "source": [
                "# Fill NaN values with 0\n",
                "disney_main_df['total_gross'] = disney_main_df['total_gross'].fillna(0)\n",
                "disney_main_df['inflation_adjusted_gross'] = disney_main_df['inflation_adjusted_gross'].fillna(0)\n"
            ]
        },
        {
            "cell_type": "markdown",
            "metadata": {
                "azdata_cell_guid": "dedc0bfe-17d0-40b2-914f-2ddb54f9ce0d"
            },
            "source": [
                "## Summarize Your Results\n",
                "\n",
                "Make note of your answers to the following questions.\n",
                "\n",
                "1. Did you find all four types of dirty data in your dataset?\n",
                "    No I found 3 of 4 there was no duplicate data that I could find.\n",
                "2. Did the process of cleaning your data give you new insights into your dataset?\n",
                "    Yes it helped me to elimnate to CSV's that were not useful and brought down the toal row count. It also showed me the structure in a more understanabdle way allowing e to see why there were so many rows in the first place. \n",
                "3. Is there anything you would like to make note of when it comes to manipulating the data and making visualizations?\n",
                "    I will defintiely be considering total gross nad adjusted gross in comparison to year of release and character in film to help make recommendations for merchandise and characters. "
            ]
        }
    ],
    "metadata": {
        "kernelspec": {
            "display_name": "venv",
            "language": "python",
            "name": "python3"
        },
        "language_info": {
            "codemirror_mode": {
                "name": "ipython",
                "version": 3
            },
            "file_extension": ".py",
            "mimetype": "text/x-python",
            "name": "python",
            "nbconvert_exporter": "python",
            "pygments_lexer": "ipython3",
            "version": "3.12.7"
        }
    },
    "nbformat": 4,
    "nbformat_minor": 2
}
