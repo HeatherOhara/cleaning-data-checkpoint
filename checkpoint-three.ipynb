{
    "cells": [
        {
            "attachments": {},
            "cell_type": "markdown",
            "metadata": {
                "azdata_cell_guid": "26037d32-2047-4157-81ef-595916bd66a0"
            },
            "source": [
                "# Checkpoint Three: Cleaning Data\n",
                "\n",
                "Now you are ready to clean your data. Before starting coding, provide the link to your dataset below.\n",
                "\n",
                "My dataset:\n",
                "\n",
                "Import the necessary libraries and create your dataframe(s)."
            ]
        },
        {
            "cell_type": "code",
            "execution_count": 8,
            "metadata": {
                "azdata_cell_guid": "e8adef8e-d0f2-4640-a179-5997f11e82ca"
            },
            "outputs": [],
            "source": [
                "import pandas as pd\n",
                "import matplotlib as plt\n",
                "import seaborn as sns\n",
                "\n"
            ]
        },
        {
            "cell_type": "markdown",
            "metadata": {
                "azdata_cell_guid": "e172475a-c4ee-414a-8367-9965355dbba6"
            },
            "source": [
                "## Missing Data\n",
                "\n",
                "Test your dataset for missing data and handle it as needed. Make notes in the form of code comments as to your thought process."
            ]
        },
        {
            "cell_type": "code",
            "execution_count": 24,
            "metadata": {
                "azdata_cell_guid": "e1dc66ef-e471-4c27-92e7-ee878c106eba"
            },
            "outputs": [
                {
                    "name": "stdout",
                    "output_type": "stream",
                    "text": [
                        "<bound method NDFrame.head of                          movie_title release_date      genre MPAA_rating  \\\n",
                        "0    Snow White and the Seven Dwarfs   12/21/1937    Musical           G   \n",
                        "1                          Pinocchio     2/9/1940  Adventure           G   \n",
                        "2                           Fantasia   11/13/1940    Musical           G   \n",
                        "3                  Song of the South   11/12/1946  Adventure           G   \n",
                        "4                         Cinderella    2/15/1950      Drama           G   \n",
                        "..                               ...          ...        ...         ...   \n",
                        "656                   Wreck-It Ralph    11/2/2012        NaN         NaN   \n",
                        "657                         \\nFrozen   11/27/2013        NaN         NaN   \n",
                        "658                       Big Hero 6    11/7/2014        NaN         NaN   \n",
                        "659                       \\nZootopia     3/4/2016        NaN         NaN   \n",
                        "660                          \\nMoana   11/23/2016        NaN         NaN   \n",
                        "\n",
                        "       total_gross inflation_adjusted_gross  Year  Studio Entertainment[NI 1]  \\\n",
                        "0    $184,925,485           $5,228,953,251    NaN                         NaN   \n",
                        "1     $84,300,000           $2,188,229,052    NaN                         NaN   \n",
                        "2     $83,320,000           $2,187,090,808    NaN                         NaN   \n",
                        "3     $65,000,000           $1,078,510,579    NaN                         NaN   \n",
                        "4     $85,000,000             $920,608,730    NaN                         NaN   \n",
                        "..             ...                      ...   ...                         ...   \n",
                        "656            NaN                      NaN   NaN                         NaN   \n",
                        "657            NaN                      NaN   NaN                         NaN   \n",
                        "658            NaN                      NaN   NaN                         NaN   \n",
                        "659            NaN                      NaN   NaN                         NaN   \n",
                        "660            NaN                      NaN   NaN                         NaN   \n",
                        "\n",
                        "     Disney Consumer Products[NI 2]  Disney Interactive[NI 3][Rev 1]  \\\n",
                        "0                               NaN                              NaN   \n",
                        "1                               NaN                              NaN   \n",
                        "2                               NaN                              NaN   \n",
                        "3                               NaN                              NaN   \n",
                        "4                               NaN                              NaN   \n",
                        "..                              ...                              ...   \n",
                        "656                             NaN                              NaN   \n",
                        "657                             NaN                              NaN   \n",
                        "658                             NaN                              NaN   \n",
                        "659                             NaN                              NaN   \n",
                        "660                             NaN                              NaN   \n",
                        "\n",
                        "     Walt Disney Parks and Resorts Disney Media Networks  Total         hero  \\\n",
                        "0                              NaN                   NaN    NaN          NaN   \n",
                        "1                              NaN                   NaN    NaN          NaN   \n",
                        "2                              NaN                   NaN    NaN          NaN   \n",
                        "3                              NaN                   NaN    NaN          NaN   \n",
                        "4                              NaN                   NaN    NaN          NaN   \n",
                        "..                             ...                   ...    ...          ...   \n",
                        "656                            NaN                   NaN    NaN        Ralph   \n",
                        "657                            NaN                   NaN    NaN         Elsa   \n",
                        "658                            NaN                   NaN    NaN  Hiro Hamada   \n",
                        "659                            NaN                   NaN    NaN   Judy Hopps   \n",
                        "660                            NaN                   NaN    NaN        Moana   \n",
                        "\n",
                        "                 villian               song  \n",
                        "0                    NaN                NaN  \n",
                        "1                    NaN                NaN  \n",
                        "2                    NaN                NaN  \n",
                        "3                    NaN                NaN  \n",
                        "4                    NaN                NaN  \n",
                        "..                   ...                ...  \n",
                        "656                Turbo         Sugar Rush  \n",
                        "657          Prince Hans        Let It Go\\n  \n",
                        "658  Professor Callaghan          Immortals  \n",
                        "659                  NaN     Try Everything  \n",
                        "660                  NaN  How Far I'll Go\\n  \n",
                        "\n",
                        "[661 rows x 16 columns]>\n",
                        "(661, 16)\n"
                    ]
                }
            ],
            "source": [
                "movies_total_gross = pd.read_csv('disney_movies_total_gross.csv')\n",
                "disney_revenue = pd.read_csv('disney_revenue_1991-2016.csv')\n",
                "characters = pd.read_csv('Disney_Characters_cleaned.csv')\n",
                "\n",
                "disney_main_df = pd.concat([movies_total_gross,disney_revenue,characters],ignore_index=True)\n",
                "\n",
                "print(disney_main_df.head)\n",
                "print(disney_main_df.shape)\n"
            ]
        },
        {
            "cell_type": "code",
            "execution_count": 25,
            "metadata": {},
            "outputs": [
                {
                    "name": "stdout",
                    "output_type": "stream",
                    "text": [
                        "Empty DataFrame\n",
                        "Columns: [movie_title, release_date, genre, MPAA_rating, total_gross, inflation_adjusted_gross, Year, Studio Entertainment[NI 1], Disney Consumer Products[NI 2], Disney Interactive[NI 3][Rev 1], Walt Disney Parks and Resorts, Disney Media Networks, Total, hero, villian, song]\n",
                        "Index: []\n"
                    ]
                }
            ],
            "source": [
                "duplicates = disney_main_df[disney_main_df.duplicated(keep=False)]\n",
                "print(duplicates)"
            ]
        },
        {
            "cell_type": "code",
            "execution_count": 26,
            "metadata": {},
            "outputs": [
                {
                    "name": "stdout",
                    "output_type": "stream",
                    "text": [
                        "movie_title                         26\n",
                        "release_date                        26\n",
                        "genre                               99\n",
                        "MPAA_rating                        138\n",
                        "total_gross                         82\n",
                        "inflation_adjusted_gross            82\n",
                        "Year                               635\n",
                        "Studio Entertainment[NI 1]         636\n",
                        "Disney Consumer Products[NI 2]     637\n",
                        "Disney Interactive[NI 3][Rev 1]    649\n",
                        "Walt Disney Parks and Resorts      635\n",
                        "Disney Media Networks              638\n",
                        "Total                              635\n",
                        "hero                               609\n",
                        "villian                            615\n",
                        "song                               614\n",
                        "dtype: int64\n"
                    ]
                }
            ],
            "source": [
                "missing_data = disney_main_df.isnull().sum()\n",
                "\n",
                "#printing missingdata in each column\n",
                "# Already know these numbers wil be very high from EDA as the majority of the data is string or object datatypes and or needs formatting updates as part of the cleaning process. \n",
                "print(missing_data[missing_data>0])"
            ]
        },
        {
            "cell_type": "code",
            "execution_count": 27,
            "metadata": {},
            "outputs": [
                {
                    "name": "stdout",
                    "output_type": "stream",
                    "text": [
                        "movies_total_gross shape: 579\n",
                        "disney_revenue shape: 26\n",
                        "characters shape: 56\n"
                    ]
                }
            ],
            "source": [
                "# Check the shape (number of rows) of each DataFrame\n",
                "print(\"movies_total_gross shape:\", movies_total_gross.shape[0])\n",
                "print(\"disney_revenue shape:\", disney_revenue.shape[0])\n",
                "print(\"characters shape:\", characters.shape[0])\n",
                "\n"
            ]
        },
        {
            "cell_type": "code",
            "execution_count": 28,
            "metadata": {},
            "outputs": [
                {
                    "name": "stdout",
                    "output_type": "stream",
                    "text": [
                        "0     184,925,485.00\n",
                        "1      84,300,000.00\n",
                        "2      83,320,000.00\n",
                        "3      65,000,000.00\n",
                        "4      85,000,000.00\n",
                        "           ...      \n",
                        "656              NaN\n",
                        "657              NaN\n",
                        "658              NaN\n",
                        "659              NaN\n",
                        "660              NaN\n",
                        "Name: total_gross, Length: 661, dtype: float64\n"
                    ]
                }
            ],
            "source": [
                "disney_main_df['total_gross'] = (\n",
                "    disney_main_df['total_gross']\n",
                "    .str.replace('$','',regex=False)\n",
                "    .str.replace(',','',regex=False)\n",
                "    .astype(float)\n",
                ")\n",
                "\n",
                "print(disney_main_df['total_gross'])"
            ]
        },
        {
            "cell_type": "code",
            "execution_count": 29,
            "metadata": {},
            "outputs": [
                {
                    "name": "stdout",
                    "output_type": "stream",
                    "text": [
                        "0     5,228,953,251.00\n",
                        "1     2,188,229,052.00\n",
                        "2     2,187,090,808.00\n",
                        "3     1,078,510,579.00\n",
                        "4       920,608,730.00\n",
                        "            ...       \n",
                        "656                NaN\n",
                        "657                NaN\n",
                        "658                NaN\n",
                        "659                NaN\n",
                        "660                NaN\n",
                        "Name: inflation_adjusted_gross, Length: 661, dtype: float64\n"
                    ]
                }
            ],
            "source": [
                "#convert object data type to string\n",
                "\n",
                "disney_main_df['inflation_adjusted_gross'] = disney_main_df['inflation_adjusted_gross'].astype(str)\n",
                "\n",
                "#strip dollarsigns and commas to make data more uniform\n",
                "disney_main_df['inflation_adjusted_gross'] = (\n",
                "    disney_main_df['inflation_adjusted_gross']\n",
                "    .str.replace('$','',regex=False)\n",
                "    .str.replace(',','',regex=False)\n",
                "    .astype(float)\n",
                ")\n",
                "\n",
                "# convert the float datatype to numeric\n",
                "\n",
                "disney_main_df['inflation_adjusted_gross']=pd.to_numeric(disney_main_df['inflation_adjusted_gross'],errors='coerce')\n",
                "# Set display options for pandas\n",
                "pd.set_option('display.float_format', '{:,.2f}'.format)\n",
                "print(disney_main_df['inflation_adjusted_gross'])\n",
                "\n",
                "\n"
            ]
        },
        {
            "cell_type": "code",
            "execution_count": 37,
            "metadata": {},
            "outputs": [
                {
                    "name": "stdout",
                    "output_type": "stream",
                    "text": [
                        "Empty DataFrame\n",
                        "Columns: [movie_title, release_date, genre, MPAA_rating, total_gross, inflation_adjusted_gross, Year, Studio Entertainment[NI 1], Disney Consumer Products[NI 2], Disney Interactive[NI 3][Rev 1], Walt Disney Parks and Resorts, Disney Media Networks, Total, hero, villian, song]\n",
                        "Index: []\n"
                    ]
                }
            ],
            "source": [
                "\n",
                "# Select rows 579 to 661\n",
                "rows_to_clean = disney_main_df.iloc[579:661]\n",
                "\n",
                "# Drop NaN values from the specified columns\n",
                "cleaned_rows = rows_to_clean.dropna(subset=[\n",
                "    'movie_title', 'release_date', 'genre', 'MPAA_rating',\n",
                "    'total_gross', 'inflation_adjusted_gross', 'Year', \n",
                "    'Studio Entertainment[NI 1]'\n",
                "])\n",
                "\n",
                "# Display the cleaned DataFrame\n",
                "print(cleaned_rows.to_string(index=False))\n"
            ]
        },
        {
            "cell_type": "code",
            "execution_count": 39,
            "metadata": {},
            "outputs": [
                {
                    "name": "stdout",
                    "output_type": "stream",
                    "text": [
                        "Original row count: 82\n",
                        "New row count after dropping NaNs: 0\n",
                        "\n",
                        "Remaining NaN values in cleaned DataFrame:\n",
                        "movie_title                        0\n",
                        "release_date                       0\n",
                        "genre                              0\n",
                        "MPAA_rating                        0\n",
                        "total_gross                        0\n",
                        "inflation_adjusted_gross           0\n",
                        "Year                               0\n",
                        "Studio Entertainment[NI 1]         0\n",
                        "Disney Consumer Products[NI 2]     0\n",
                        "Disney Interactive[NI 3][Rev 1]    0\n",
                        "Walt Disney Parks and Resorts      0\n",
                        "Disney Media Networks              0\n",
                        "Total                              0\n",
                        "hero                               0\n",
                        "villian                            0\n",
                        "song                               0\n",
                        "dtype: int64\n",
                        "\n",
                        "Cleaned DataFrame:\n",
                        "Empty DataFrame\n",
                        "Columns: [movie_title, release_date, genre, MPAA_rating, total_gross, inflation_adjusted_gross, Year, Studio Entertainment[NI 1], Disney Consumer Products[NI 2], Disney Interactive[NI 3][Rev 1], Walt Disney Parks and Resorts, Disney Media Networks, Total, hero, villian, song]\n",
                        "Index: []\n"
                    ]
                }
            ],
            "source": [
                "#remove NaN Values from rows 570 -661 as those values do not exist in the speciified columns since the csv. are different lengths and contaion different data\n",
                "# Select rows 579 to 661\n",
                "rows_to_clean = disney_main_df.iloc[579:661]\n",
                "\n",
                "# Check the original number of rows\n",
                "original_row_count = rows_to_clean.shape[0]\n",
                "print(f\"Original row count: {original_row_count}\")\n",
                "\n",
                "# Drop NaN values from the specified columns\n",
                "cleaned_rows = rows_to_clean.dropna(subset=[\n",
                "    'movie_title', 'release_date', 'genre', 'MPAA_rating',\n",
                "    'total_gross', 'inflation_adjusted_gross', 'Year', \n",
                "    'Studio Entertainment[NI 1]'\n",
                "])\n",
                "\n",
                "# Check the new number of rows\n",
                "new_row_count = cleaned_rows.shape[0]\n",
                "print(f\"New row count after dropping NaNs: {new_row_count}\")\n",
                "\n",
                "# Check for remaining NaN values in the cleaned DataFrame\n",
                "nan_counts = cleaned_rows.isna().sum()\n",
                "print(\"\\nRemaining NaN values in cleaned DataFrame:\")\n",
                "print(nan_counts)\n",
                "\n",
                "# Display the cleaned DataFrame\n",
                "print(\"\\nCleaned DataFrame:\")\n",
                "print(cleaned_rows.to_string(index=False))\n"
            ]
        },
        {
            "cell_type": "code",
            "execution_count": 42,
            "metadata": {},
            "outputs": [
                {
                    "name": "stdout",
                    "output_type": "stream",
                    "text": [
                        "0              NaN\n",
                        "1              NaN\n",
                        "2              NaN\n",
                        "3              NaN\n",
                        "4              NaN\n",
                        "          ...     \n",
                        "656          Ralph\n",
                        "657           Elsa\n",
                        "658    Hiro Hamada\n",
                        "659     Judy Hopps\n",
                        "660          Moana\n",
                        "Name: hero, Length: 661, dtype: object\n"
                    ]
                }
            ],
            "source": [
                "#check column which contains nan values up to 579 but has daa after that\n",
                "print(disney_main_df['hero'])"
            ]
        },
        {
            "cell_type": "markdown",
            "metadata": {
                "azdata_cell_guid": "1233f543-e9a0-4f78-96f5-d7536554102e"
            },
            "source": [
                "## Irregular Data\n",
                "\n",
                "Detect outliers in your dataset and handle them as needed. Use code comments to make notes about your thought process."
            ]
        },
        {
            "cell_type": "code",
            "execution_count": 43,
            "metadata": {},
            "outputs": [
                {
                    "name": "stdout",
                    "output_type": "stream",
                    "text": [
                        "         total_gross  inflation_adjusted_gross     Year  \\\n",
                        "count         579.00                    579.00     1.00   \n",
                        "mean   64,701,788.52            118,762,523.31 1,991.00   \n",
                        "std    93,013,006.12            286,085,280.04      NaN   \n",
                        "min             0.00                      0.00 1,991.00   \n",
                        "25%    12,788,864.00             22,741,232.00 1,991.00   \n",
                        "50%    30,702,446.00             55,159,783.00 1,991.00   \n",
                        "75%    75,709,033.00            119,202,000.00 1,991.00   \n",
                        "max   936,662,225.00          5,228,953,251.00 1,991.00   \n",
                        "\n",
                        "       Studio Entertainment[NI 1]  Disney Consumer Products[NI 2]  \\\n",
                        "count                        1.00                            1.00   \n",
                        "mean                     2,593.00                          724.00   \n",
                        "std                           NaN                             NaN   \n",
                        "min                      2,593.00                          724.00   \n",
                        "25%                      2,593.00                          724.00   \n",
                        "50%                      2,593.00                          724.00   \n",
                        "75%                      2,593.00                          724.00   \n",
                        "max                      2,593.00                          724.00   \n",
                        "\n",
                        "       Disney Interactive[NI 3][Rev 1]  Walt Disney Parks and Resorts    Total  \n",
                        "count                             0.00                           1.00     1.00  \n",
                        "mean                               NaN                       2,794.00 6,111.00  \n",
                        "std                                NaN                            NaN      NaN  \n",
                        "min                                NaN                       2,794.00 6,111.00  \n",
                        "25%                                NaN                       2,794.00 6,111.00  \n",
                        "50%                                NaN                       2,794.00 6,111.00  \n",
                        "75%                                NaN                       2,794.00 6,111.00  \n",
                        "max                                NaN                       2,794.00 6,111.00  \n"
                    ]
                }
            ],
            "source": [
                "import numpy as np\n",
                "# Analyze rows 0-580 as that will contatin the bulk of the numerical data. \n",
                "rows_to_analyze = disney_main_df.iloc[0:580]\n",
                "\n",
                "# describe to see basic statitsics\n",
                "print(rows_to_analyze.describe())"
            ]
        },
        {
            "cell_type": "code",
            "execution_count": null,
            "metadata": {
                "azdata_cell_guid": "efed50ae-16f0-471d-98e2-632553a74c12"
            },
            "outputs": [],
            "source": []
        },
        {
            "cell_type": "markdown",
            "metadata": {
                "azdata_cell_guid": "6f5b8ee0-bab3-44bc-958a-67d1e4c0407f"
            },
            "source": [
                "## Unnecessary Data\n",
                "\n",
                "Look for the different types of unnecessary data in your dataset and address it as needed. Make sure to use code comments to illustrate your thought process."
            ]
        },
        {
            "cell_type": "code",
            "execution_count": null,
            "metadata": {
                "azdata_cell_guid": "e788a239-2fbf-41de-9bd3-19e52e3b187c"
            },
            "outputs": [],
            "source": []
        },
        {
            "cell_type": "markdown",
            "metadata": {
                "azdata_cell_guid": "53e0cf94-c68a-4fa0-9849-9505a66bcce6"
            },
            "source": [
                "## Inconsistent Data\n",
                "\n",
                "Check for inconsistent data and address any that arises. As always, use code comments to illustrate your thought process."
            ]
        },
        {
            "cell_type": "code",
            "execution_count": null,
            "metadata": {
                "azdata_cell_guid": "e9de6624-812a-43f8-8e20-93b4a49b091f"
            },
            "outputs": [],
            "source": []
        },
        {
            "cell_type": "markdown",
            "metadata": {
                "azdata_cell_guid": "dedc0bfe-17d0-40b2-914f-2ddb54f9ce0d"
            },
            "source": [
                "## Summarize Your Results\n",
                "\n",
                "Make note of your answers to the following questions.\n",
                "\n",
                "1. Did you find all four types of dirty data in your dataset?\n",
                "2. Did the process of cleaning your data give you new insights into your dataset?\n",
                "3. Is there anything you would like to make note of when it comes to manipulating the data and making visualizations?"
            ]
        }
    ],
    "metadata": {
        "kernelspec": {
            "display_name": "venv",
            "language": "python",
            "name": "python3"
        },
        "language_info": {
            "codemirror_mode": {
                "name": "ipython",
                "version": 3
            },
            "file_extension": ".py",
            "mimetype": "text/x-python",
            "name": "python",
            "nbconvert_exporter": "python",
            "pygments_lexer": "ipython3",
            "version": "3.12.7"
        }
    },
    "nbformat": 4,
    "nbformat_minor": 2
}
